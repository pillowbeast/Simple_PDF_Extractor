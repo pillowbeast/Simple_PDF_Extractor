{
 "cells": [
  {
   "cell_type": "markdown",
   "id": "eced1c2d",
   "metadata": {},
   "source": [
    "# PDFDataExtractor Demo"
   ]
  },
  {
   "cell_type": "markdown",
   "id": "46ebc98f",
   "metadata": {},
   "source": [
    "PDFDataExtractor is a toolkit for automatically extracting semantic information from PDF files of scientific articles, which features a template-based architecture with abilities to extract information from the following various publishers: \n",
    "* Elsevier\n",
    "* Royal Society of Chemistry\n",
    "* Advanced Material Families (Wiley)\n",
    "* Angewandte\n",
    "* Chemistry A European Journal\n",
    "* American Chemistry Society\n",
    "* Springer (Temporarily unavailable)"
   ]
  },
  {
   "cell_type": "markdown",
   "id": "3103dc4e",
   "metadata": {},
   "source": [
    "## To install PDFDataExtractor, simply run the following code in your terminal"
   ]
  },
  {
   "cell_type": "code",
   "execution_count": null,
   "id": "9d20cf16",
   "metadata": {},
   "outputs": [],
   "source": [
    "git clone git@github.com:cat-lemonade/PDFDataExtractor.git"
   ]
  },
  {
   "cell_type": "markdown",
   "id": "3fde0a77",
   "metadata": {},
   "source": [
    "## Then run the following code:"
   ]
  },
  {
   "cell_type": "code",
   "execution_count": 1,
   "id": "35f76b64",
   "metadata": {},
   "outputs": [
    {
     "ename": "SyntaxError",
     "evalue": "invalid syntax (1000827859.py, line 1)",
     "output_type": "error",
     "traceback": [
      "\u001b[1;36m  File \u001b[1;32m\"C:\\Users\\yanni\\AppData\\Local\\Temp\\ipykernel_6988\\1000827859.py\"\u001b[1;36m, line \u001b[1;32m1\u001b[0m\n\u001b[1;33m    python setup.py install\u001b[0m\n\u001b[1;37m               ^\u001b[0m\n\u001b[1;31mSyntaxError\u001b[0m\u001b[1;31m:\u001b[0m invalid syntax\n"
     ]
    }
   ],
   "source": [
    "python setup.py install"
   ]
  },
  {
   "attachments": {},
   "cell_type": "markdown",
   "id": "1c9b5039",
   "metadata": {
    "slideshow": {
     "slide_type": "notes"
    }
   },
   "source": [
    " You should have a developing environment installed, I recommend conda. So that the packages are not installed on your root and are available everywhere which can lead to overlap and bugs, but are just usable in this coding-environment."
   ]
  },
  {
   "cell_type": "markdown",
   "id": "cf90c1ac",
   "metadata": {},
   "source": [
    "## Pass a single PDF file"
   ]
  },
  {
   "attachments": {},
   "cell_type": "markdown",
   "id": "b8db3a07",
   "metadata": {},
   "source": [
    "### Go into main.py and change the following and add the PDF to the data folder"
   ]
  },
  {
   "cell_type": "code",
   "execution_count": 2,
   "id": "a636447e",
   "metadata": {},
   "outputs": [
    {
     "ename": "ModuleNotFoundError",
     "evalue": "No module named 'pdfdataextractor'",
     "output_type": "error",
     "traceback": [
      "\u001b[1;31m---------------------------------------------------------------------------\u001b[0m",
      "\u001b[1;31mModuleNotFoundError\u001b[0m                       Traceback (most recent call last)",
      "\u001b[1;32m~\\AppData\\Local\\Temp\\ipykernel_6988\\899850781.py\u001b[0m in \u001b[0;36m<module>\u001b[1;34m\u001b[0m\n\u001b[1;32m----> 1\u001b[1;33m \u001b[1;32mfrom\u001b[0m \u001b[0mpdfdataextractor\u001b[0m \u001b[1;32mimport\u001b[0m \u001b[0mReader\u001b[0m\u001b[1;33m\u001b[0m\u001b[1;33m\u001b[0m\u001b[0m\n\u001b[0m",
      "\u001b[1;31mModuleNotFoundError\u001b[0m: No module named 'pdfdataextractor'"
     ]
    }
   ],
   "source": [
    "path = r'../data/<whatevername>.pdf'"
   ]
  },
  {
   "cell_type": "code",
   "execution_count": 2,
   "id": "5beed496",
   "metadata": {},
   "outputs": [],
   "source": [
    "output_file = r'data/output/<whatevername>.txt'"
   ]
  },
  {
   "cell_type": "code",
   "execution_count": null,
   "id": "c2bc4f2d",
   "metadata": {},
   "outputs": [],
   "source": [
    "flags = ['Fabian Steinmetz', 'Policy Brief No. 130', 'Toda Research Institute'] # list of strings to be removed from the output"
   ]
  },
  {
   "cell_type": "code",
   "execution_count": 3,
   "id": "2d1b8407",
   "metadata": {},
   "outputs": [],
   "source": [
    "python main.py"
   ]
  },
  {
   "cell_type": "markdown",
   "id": "423d2bed",
   "metadata": {},
   "source": [
    " "
   ]
  },
  {
   "cell_type": "markdown",
   "id": "77b4aa85",
   "metadata": {},
   "source": [
    "### Show records"
   ]
  },
  {
   "cell_type": "code",
   "execution_count": 7,
   "id": "1941ed13",
   "metadata": {},
   "outputs": [
    {
     "data": {
      "text/plain": [
       "[{'names': ['donor-π-bridge-acceptor-π']},\n",
       " {'names': ['quinoxaline']},\n",
       " {'names': ['deep red']}]"
      ]
     },
     "execution_count": 7,
     "metadata": {},
     "output_type": "execute_result"
    }
   ],
   "source": [
    "r.records.serialize()"
   ]
  },
  {
   "cell_type": "markdown",
   "id": "0f22f396",
   "metadata": {},
   "source": [
    "## Things to notice"
   ]
  },
  {
   "cell_type": "markdown",
   "id": "158d1e36",
   "metadata": {},
   "source": [
    "### PDFDataExtractor uses ChemDataExtrator to perform all chemistry related extraction, for more detailed use cases, please refer to http://chemdataextractor.org"
   ]
  },
  {
   "cell_type": "markdown",
   "id": "931d6b09",
   "metadata": {},
   "source": [
    "## Known Issues"
   ]
  },
  {
   "cell_type": "markdown",
   "id": "4456656f",
   "metadata": {},
   "source": [
    "In ACS\n",
    "* In ACS, a few journals have two section title styles existing at the same time, namely: numbered one and ■ one. This could confuse the title filtration function because two styles have largely different font sizes. But this won’t affect reference extraction\n",
    "* Reference extracted might not be in order\n",
    "* Parts of extracted reference could be missing\n",
    "\n",
    "In Elesvier\n",
    "* Potentially weak journal extraction leads to missing journal information\n",
    "* Unnumbered references can be messy\n",
    "\n",
    "In RSC\n",
    "* Title can be missing\n",
    "* Journal year, volume and page numbers can be missing in certain articles\n",
    "* Some section titles can be missed but reference section remains solid\n",
    "\n",
    "\n",
    "In Advanced Family\n",
    "* Reference entries can be mixed\n",
    "* Keywords can be found inside reference entries, roughly 1 in 20\n",
    "* Some authors place their bio at the very end, such words are not excluded from reference at the moment\n",
    "\n",
    "In CAEJ\n",
    "* Keywords can be incomplete\n",
    "\n",
    "In Angewandte\n",
    "* Keywords might not be in order"
   ]
  }
 ],
 "metadata": {
  "kernelspec": {
   "display_name": "ARIS",
   "language": "python",
   "name": "python3"
  },
  "language_info": {
   "codemirror_mode": {
    "name": "ipython",
    "version": 3
   },
   "file_extension": ".py",
   "mimetype": "text/x-python",
   "name": "python",
   "nbconvert_exporter": "python",
   "pygments_lexer": "ipython3",
   "version": "3.7.7 (default, May  6 2020, 11:45:54) [MSC v.1916 64 bit (AMD64)]"
  },
  "vscode": {
   "interpreter": {
    "hash": "975b18bc7dd0810880863e785de30ae921246198585ea656dcecbe7695289ba9"
   }
  }
 },
 "nbformat": 4,
 "nbformat_minor": 5
}
